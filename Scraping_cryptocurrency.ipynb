{
 "cells": [
  {
   "cell_type": "code",
   "execution_count": 12,
   "id": "65d29cc3",
   "metadata": {},
   "outputs": [],
   "source": [
    "from bs4 import BeautifulSoup\n",
    "import requests"
   ]
  },
  {
   "cell_type": "code",
   "execution_count": 13,
   "id": "cbfb45c4",
   "metadata": {},
   "outputs": [],
   "source": [
    "mainpage = requests.get('https://coinmarketcap.com/currencies/bnb/')\n",
    "soup = BeautifulSoup(mainpage.content, 'html.parser')"
   ]
  },
  {
   "cell_type": "code",
   "execution_count": 14,
   "id": "fdef41e1",
   "metadata": {},
   "outputs": [
    {
     "name": "stdout",
     "output_type": "stream",
     "text": [
      "BNB Price Live Data\n",
      "\n",
      "The live BNB price today is $280.23 USD with a 24-hour trading volume of $1,265,806,316 USD. We update our BNB to USD price in real-time. BNB is down 0.28% in the last 24 hours. The current CoinMarketCap ranking is #4, with a live market cap of $44,829,463,887 USD. It has a circulating supply of 159,974,548 BNB coins and a max. supply of 200,000,000 BNB coins.\n",
      "\n",
      "If you would like to know where to buy BNB at the current rate, the top cryptocurrency exchanges for trading in BNB stock are currently Binance, MEXC, BTCEX, CoinW,  and Phemex. You can find others listed on our crypto exchanges page.\n",
      "\n",
      "Launched in July 2017, Binance is the biggest cryptocurrency exchange globally based on daily trading volume. Binance aims to bring cryptocurrency exchanges to the forefront of financial activity globally. The idea behind Binance’s name is to show this new paradigm in global finance — Binary Finance, or Binance.\n",
      "\n",
      "Aside from being the largest cryptocurrency exchange globally, Binance has launched a whole ecosystem of functionalities for its users. The Binance network includes the Binance Chain, Binance Smart Chain, Binance Academy, Trust Wallet and Research projects, which all employ the powers of blockchain technology to bring new-age finance to the world. BNB is an integral part of the successful functioning of many of the Binance sub-projects.\n",
      "\n",
      "Changpeng Zhao is the founder and CEO of Binance. In 2001, Zhao joined Bloomberg as head of tradebook futures development. He spent four years with the company and later joined Fusion Systems as a partner.\n",
      "\n",
      "Since 2013, Changpeng Zhao has been actively involved with blockchain technology and cryptocurrencies. He became head of development at Blockchain, and in 2015 he founded BijieTech. In 2017, Zhao officially launched Binance, and he has been the CEO of the company ever since.\n",
      "\n",
      "He Yi is a co-founder and chief marketing officer at Binance. She started her career as a TV anchor and presenter on China Travel TV in 2012. Later, in 2014, Yi co-founded OKCoin, which was the largest fiat-to-crypto exchange in China at the time. In 2017, she joined forces with Changpeng Zhao, and together they created the largest crypto exchange globally — Binance.\n",
      "\n",
      "Binance is a unique ecosystem of decentralized, blockchain-based networks. The company has grown to be the leading crypto exchange in a number of countries, and their side organizations are attracting significant interest as well.\n",
      "\n",
      "One of the biggest competitive advantages Binance has is its drive for development. While the company started only as a crypto exchange back in 2017, today, Binance has spread its services among numerous different spheres. According to the company website, its mission is to become the infrastructure services provider for the entire blockchain ecosystem.\n",
      "\n",
      "Since launching the BNB, the exchange has also benefited from increased investor interest in the coin. BNB went through a significant price increase at the beginning of 2021, which has put it on the map of enterprise investors.\n",
      "\n",
      "Measures like BEP-95 have upgraded the already deflationary tokenomics to make BNB even more deflationary. Following the proposal, gas fees on Binance Smart Chain have become even lower, as the network burns a part of the fees to decentralize further. The proposal was modeled after Ethereum's famous EIP-1559.\n",
      "\n",
      "This has helped Binance overcome several exploits of protocols on BSC, such as a $200M exploit of Pancake Bunny and several hacks of Cream Finance. Despite these hacks, users return to Binance for its low fees and the abundance of lucrative meme coins in its ecosystem.\n",
      "\n",
      "Within the crypto industry, a coin burn is a deflationary mechanism that is used to permanently remove coins from circulation. Most cryptocurrency projects, including Binance, periodically burn coins to sustain the value of their digital asset and create a deflationary effect.\n",
      "\n",
      "In the case of Binance, the crypto exchange began the program in late 2017 and has so far burned over 38 million tokens via its quarterly burn to date. The crypto exchange has in mind to destroy up to 100 million BNB tokens through its quarterly burns, accounting for 50% of its circulating supply.\n",
      "\n",
      "BNB utilizes two coin-burning mechanisms. The first mechanism consists of burning a portion of the tokens spent on transaction fees on the BNB Chain, and the second is its quarterly BNB burning events.\n",
      "\n",
      "Previously, the quarterly burn event was based on revenue generated from the Binance centralized exchange. But under the new BNB Auto-Burn program, the number of tokens to be burned is calculated using a formula based on the total number of blocks produced on the Binance Smart Chain and BNB's average dollar-denominated price during the quarter.\n",
      "\n",
      "As of July 2022, Binance had completed 20 BNB coin burn events. In total, 38,683,447.66 BNB tokens have been destroyed, reducing its initial 200M supply by 19.34%.\n",
      "\n",
      "Read more about Elrond.\n",
      "\n",
      "Find out more about bZx protocol.\n",
      "\n",
      "Learn more about DApps.\n",
      "\n",
      "Binance is launching an NFT marketplace.\n",
      "\n",
      "Want to keep track of BNB prices live? Download the CoinMarketCap mobile app!\n",
      "\n",
      "Want to convert BNB price today to your desired fiat currency? Check out CoinMarketCap exchange rate calculator.\n",
      "\n",
      "What are crypto debit cards?\n",
      "\n",
      "There is an initial maximum supply of 200,000,000 BNB coins, of which 168,137,036 are currently in circulation as of September 2021.\n",
      "\n",
      "Binance conducts quarterly burning of the BNB supply, with the goal of reducing the total supply by half — or 100,000,000 BNB. On July 18, 2021, it conducted its 16th quarterly burning, which was worth $390 million in BNB price at the time of burning. However, that was not the most expensive burn — on April 16, 2021, the exchange burned nearly $600 million worth, in BNB price at the time of burning.\n",
      "\n",
      "According to the Binance whitepaper, exactly half of the maximum supply of BNB coins was allocated towards the initial coin offering (ICO) and public sale of the coin. The ICO was held in July 2017 shortly after the exchange launched, and saw Binance raise $15 million in funding, with BNB price at $0.10 during the ICO. Taking BNB price today, that represents an almost 4200X return on investment (ROI). Another 40% of the total supply, or around 80,000,000 BNB coins, was distributed among the founding members and team. Finally, the remaining 10% of the maximum supply was split among angel investors.\n",
      "\n",
      "Initially, the BNB started as a traditional ERC-20 token on the Ethereum blockchain. Later on, the company introduced its own blockchain, and the tokens started being issued from the Binance blockchain, secured by the Tendermint byzantine-fault-tolerant (BFT) consensus mechanism.\n",
      "\n",
      "While ERC-20 tokens rely on the proof-of-stake (PoS) consensus, which allows them to be extremely scalable, and allows for the creation of smart contracts. Unlike PoS, the Binance blockchain does not support smart contract functionalities. In contrast, the Bitcoin blockchain is secured by the proof-of-work (PoW) consensus, which is far more limited and consumes large amounts of electrical and computing power.\n",
      "\n",
      "As the dedicated utility token of the Binance exchange, the most straightforward way to acquire BNB coins would be to purchase them through Binance. The original exchange supports the largest variety of trading pairs with BNB, and it also has the best trading rates for the coin. Since the launch of Play2Earn games, interest in the BNB to PHP price has increased substantially.\n",
      "\n",
      "If you are looking for alternative exchanges where you can purchase BNB, FTX is a good choice. Keep in mind that investing in cryptocurrency can be risky, just like investing in any other type of asset.\n",
      "\n",
      "To check BNB price live in the fiat currency of your choice, you can use CoinMarketCap’s converter feature directly on the BNB currency page. Alternatively, use the dedicated exchange rate converter page. Popular BNB price pairs include: BNB/USD, BNB/GBP, BNB/AUD, BNB/CNY, BNB/JPY \n",
      "and BNB/EUR.\n",
      "\n",
      "Cryptocurrency newbie? You can read more about how to enter the market and how to buy BTC, BNB or any other token in CoinMarketCap education portal — Alexandria.\n",
      "\n",
      "Our most recent articles about BNB:\n",
      "\n"
     ]
    }
   ],
   "source": [
    "whatis = soup.find_all(\"div\", {\"class\": \"sc-dfcf1aec-0 iOiyFO\"})\n",
    "\n",
    "title = whatis[0].find_all(\"h2\")\n",
    "print(title[0].text.strip() + \"\\n\")\n",
    "for p in whatis[0].find_all('p'):\n",
    "      print(p.text.strip() +\"\\n\")"
   ]
  },
  {
   "cell_type": "code",
   "execution_count": 22,
   "id": "a3c7ddb9",
   "metadata": {},
   "outputs": [],
   "source": [
    "statsContainer = soup.find_all(\"div\", {\"class\" : \"hide statsContainer\"})"
   ]
  },
  {
   "cell_type": "code",
   "execution_count": 23,
   "id": "113e17b0",
   "metadata": {},
   "outputs": [
    {
     "name": "stdout",
     "output_type": "stream",
     "text": [
      "[<div class=\"statsValue\">$44,829,463,887</div>, <div class=\"statsValue\">$56,045,745,398</div>, <div class=\"statsValue\">$1,265,806,316</div>, <div class=\"statsValue\">159,974,547.82 BNB</div>]\n"
     ]
    }
   ],
   "source": [
    "for s in statsContainer:\n",
    "    statsValue = s.find_all(\"div\", {\"class\" : \"statsValue\"})\n",
    "    print(statsValue)"
   ]
  },
  {
   "cell_type": "code",
   "execution_count": 24,
   "id": "e5624995",
   "metadata": {},
   "outputs": [],
   "source": [
    "statsValues = statsContainer[0].find_all(\"div\", {\"class\" : \"statsValue\"})"
   ]
  },
  {
   "cell_type": "code",
   "execution_count": 25,
   "id": "804c49f0",
   "metadata": {},
   "outputs": [
    {
     "name": "stdout",
     "output_type": "stream",
     "text": [
      "$44,829,463,887\n"
     ]
    }
   ],
   "source": [
    "statsValue_marketcap = statsValues[0].text.strip()\n",
    "print(statsValue_marketcap)"
   ]
  },
  {
   "cell_type": "code",
   "execution_count": 27,
   "id": "2f961f72",
   "metadata": {},
   "outputs": [
    {
     "name": "stdout",
     "output_type": "stream",
     "text": [
      "$56,045,745,398\n"
     ]
    }
   ],
   "source": [
    "statsValue_fully_diluted_marketcap = statsValues[1].text.strip()\n",
    "print(statsValue_fully_diluted_marketcap)"
   ]
  },
  {
   "cell_type": "code",
   "execution_count": 28,
   "id": "b72b236f",
   "metadata": {},
   "outputs": [
    {
     "name": "stdout",
     "output_type": "stream",
     "text": [
      "$1,265,806,316\n"
     ]
    }
   ],
   "source": [
    "statsValue_volume = statsValues[2].text.strip()\n",
    "print(statsValue_volume)"
   ]
  },
  {
   "cell_type": "code",
   "execution_count": 31,
   "id": "fc58f993",
   "metadata": {},
   "outputs": [
    {
     "name": "stdout",
     "output_type": "stream",
     "text": [
      "159,974,547.82 BNB\n"
     ]
    }
   ],
   "source": [
    "statsValue_circulating_supply = statsValues[3].text.strip()\n",
    "print(statsValue_circulating_supply)"
   ]
  },
  {
   "cell_type": "code",
   "execution_count": null,
   "id": "a9139017",
   "metadata": {},
   "outputs": [],
   "source": []
  },
  {
   "cell_type": "code",
   "execution_count": null,
   "id": "a4ef0cd6",
   "metadata": {},
   "outputs": [],
   "source": []
  }
 ],
 "metadata": {
  "kernelspec": {
   "display_name": "Python 3 (ipykernel)",
   "language": "python",
   "name": "python3"
  },
  "language_info": {
   "codemirror_mode": {
    "name": "ipython",
    "version": 3
   },
   "file_extension": ".py",
   "mimetype": "text/x-python",
   "name": "python",
   "nbconvert_exporter": "python",
   "pygments_lexer": "ipython3",
   "version": "3.9.13"
  },
  "varInspector": {
   "cols": {
    "lenName": 16,
    "lenType": 16,
    "lenVar": 40
   },
   "kernels_config": {
    "python": {
     "delete_cmd_postfix": "",
     "delete_cmd_prefix": "del ",
     "library": "var_list.py",
     "varRefreshCmd": "print(var_dic_list())"
    },
    "r": {
     "delete_cmd_postfix": ") ",
     "delete_cmd_prefix": "rm(",
     "library": "var_list.r",
     "varRefreshCmd": "cat(var_dic_list()) "
    }
   },
   "types_to_exclude": [
    "module",
    "function",
    "builtin_function_or_method",
    "instance",
    "_Feature"
   ],
   "window_display": false
  }
 },
 "nbformat": 4,
 "nbformat_minor": 5
}
